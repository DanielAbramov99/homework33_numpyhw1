{
 "cells": [
  {
   "cell_type": "code",
   "execution_count": 1,
   "id": "6f5e90cc-bdb3-44ff-950a-37e0b5c78365",
   "metadata": {},
   "outputs": [
    {
     "name": "stdout",
     "output_type": "stream",
     "text": [
      "Requirement already satisfied: numpy in c:\\users\\daniel\\anaconda3\\lib\\site-packages (1.26.4)\n",
      "Note: you may need to restart the kernel to use updated packages.\n"
     ]
    }
   ],
   "source": [
    "pip install numpy\n",
    "np.set_printoptions(suppress=True, formatter={'float_kind': '{:0.1f}'.format})\n"
   ]
  },
  {
   "cell_type": "code",
   "execution_count": 64,
   "id": "85530780-3445-474c-9877-0a0440783495",
   "metadata": {},
   "outputs": [
    {
     "name": "stdout",
     "output_type": "stream",
     "text": [
      "[ 0  1  2  3  4  5  6  7  8  9 10]\n",
      "[0.5  0.75 1.   1.25 1.5  1.75 2.   2.25 2.5  2.75 3.   3.25 3.5  3.75\n",
      " 4.   4.25 4.5  4.75]\n"
     ]
    }
   ],
   "source": [
    "import numpy as np\n",
    "num_arange1=np.arange(11)\n",
    "num_arange2=np.arange(0.5,5,0.25)\n",
    "print(num_arange1)\n",
    "print(num_arange2)\n",
    "\n"
   ]
  },
  {
   "cell_type": "code",
   "execution_count": 68,
   "id": "7c29ba86-e929-45bd-b289-ad5d3256d44c",
   "metadata": {},
   "outputs": [
    {
     "name": "stdout",
     "output_type": "stream",
     "text": [
      "[0 0 0 0 0 0 0 0 0 0]\n",
      "[[0 0 0]\n",
      " [0 0 0]\n",
      " [0 0 0]\n",
      " [0 0 0]]\n"
     ]
    }
   ],
   "source": [
    "zeros1=np.zeros(10, dtype=int)\n",
    "zeros2=np.zeros((4,3), dtype=int)\n",
    "print(zeros1)\n",
    "print(zeros2)"
   ]
  },
  {
   "cell_type": "code",
   "execution_count": 70,
   "id": "b016f6a5-3809-4f69-a799-642a0837e354",
   "metadata": {
    "scrolled": true
   },
   "outputs": [
    {
     "name": "stdout",
     "output_type": "stream",
     "text": [
      "[ 2  4  7  9 12]\n",
      "[3 5 7 9]\n"
     ]
    }
   ],
   "source": [
    "linspace1=np.linspace(2,12,5, dtype=int)\n",
    "linspace2=np.linspace(3,9,4, dtype=int)\n",
    "print(linspace1)\n",
    "print(linspace2)"
   ]
  },
  {
   "cell_type": "code",
   "execution_count": 80,
   "id": "a7dd2c26-2f61-4e81-a8e0-5b5205cc1ad5",
   "metadata": {},
   "outputs": [
    {
     "name": "stdout",
     "output_type": "stream",
     "text": [
      "[[0.04225592 0.93687931]\n",
      " [0.99018231 0.28064097]\n",
      " [0.84329266 0.66796046]\n",
      " [0.93658251 0.40313687]]\n",
      "[[19 18 11]\n",
      " [11 12 12]\n",
      " [15 13 14]]\n",
      "[[0.04225592 0.93687931 0.99018231 0.28064097 0.84329266 0.66796046\n",
      "  0.93658251 0.40313687]]\n"
     ]
    }
   ],
   "source": [
    "random1=np.random.rand(4, 2)*0.999\n",
    "random2=np.random.randint(10, 20, (3, 3))\n",
    "random1_reshape=np.reshape(random1, (1,8))\n",
    "# While using reshape you cannot use different amount of elements like here if you have a total of 8 numbers you can reshape it as you seem fit as long as it stays within those 8 numbers.\n",
    "print(random1)\n",
    "print(random2)\n",
    "print(random1_reshape)"
   ]
  },
  {
   "cell_type": "code",
   "execution_count": 101,
   "id": "1fd21849-5b65-4ab3-9598-c9eb064a442f",
   "metadata": {},
   "outputs": [
    {
     "name": "stdout",
     "output_type": "stream",
     "text": [
      "[[0.04872488 0.28910966]\n",
      " [0.72096635 0.02161625]]\n",
      "[[0.04872488 0.28910966]\n",
      " [0.72096635 0.02161625]]\n"
     ]
    }
   ],
   "source": [
    "np.random.seed(42)\n",
    "random_seed=np.random.rand(2,2)\n",
    "print(random_seed)\n",
    "print(random_seed)\n",
    "\n",
    "# From what I can see if we use seed then no matter how many times we use print random we will get fixed numbers.\n",
    "# The pros of using seed  is that you can test the same sequence over and over and you can keep that number sequence for later use. "
   ]
  }
 ],
 "metadata": {
  "kernelspec": {
   "display_name": "Python 3 (ipykernel)",
   "language": "python",
   "name": "python3"
  },
  "language_info": {
   "codemirror_mode": {
    "name": "ipython",
    "version": 3
   },
   "file_extension": ".py",
   "mimetype": "text/x-python",
   "name": "python",
   "nbconvert_exporter": "python",
   "pygments_lexer": "ipython3",
   "version": "3.12.7"
  }
 },
 "nbformat": 4,
 "nbformat_minor": 5
}
